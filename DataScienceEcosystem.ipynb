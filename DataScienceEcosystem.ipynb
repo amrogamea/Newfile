{
    "cells": [
        {
            "metadata": {
                "collapsed": true
            },
            "cell_type": "markdown",
            "source": "# Data Science Tools and Ecosystems "
        },
        {
            "metadata": {},
            "cell_type": "markdown",
            "source": "In this notebook, Data Science Tools and Ecosystem are summarized."
        },
        {
            "metadata": {},
            "cell_type": "markdown",
            "source": "Some of the popular languages that Data Scientists use are:\n1. Python\n1. R\n1. Julia\n1. SQL\n"
        },
        {
            "metadata": {},
            "cell_type": "markdown",
            "source": "Some of the commonly used libraries used by Data Scientists include:\n1. pandas\n1. numpy \n1. sklearn\n1. matplotlib"
        },
        {
            "metadata": {},
            "cell_type": "markdown",
            "source": "\n| Data Science Tools | Jupyter notebooks | Watson Studios | Github |\n| :- | - | - | - | "
        },
        {
            "metadata": {},
            "cell_type": "markdown",
            "source": "### Below are a few examples of evaluating arithmetic expressions in Python.\n(1-3)*6\n(1+2)*3\n"
        },
        {
            "metadata": {},
            "cell_type": "code",
            "source": "#this a simple arithmetic expression to mutiply then add integers\n(3*4)+5",
            "execution_count": 4,
            "outputs": [
                {
                    "output_type": "execute_result",
                    "execution_count": 4,
                    "data": {
                        "text/plain": "17"
                    },
                    "metadata": {}
                }
            ]
        },
        {
            "metadata": {},
            "cell_type": "code",
            "source": "# This will convert 200 minutes to hours by diving by 60\n200/60",
            "execution_count": 5,
            "outputs": [
                {
                    "output_type": "execute_result",
                    "execution_count": 5,
                    "data": {
                        "text/plain": "3.3333333333333335"
                    },
                    "metadata": {}
                }
            ]
        },
        {
            "metadata": {},
            "cell_type": "markdown",
            "source": "### objectives: \n- List popular languages for data science\n- List popular libraries for data science\n- define expressions"
        },
        {
            "metadata": {},
            "cell_type": "markdown",
            "source": "## Author \n\nAmr Gamea"
        },
        {
            "metadata": {},
            "cell_type": "code",
            "source": "",
            "execution_count": null,
            "outputs": []
        }
    ],
    "metadata": {
        "kernelspec": {
            "name": "python3",
            "display_name": "Python 3.10",
            "language": "python"
        },
        "language_info": {
            "name": "python",
            "version": "3.10.9",
            "mimetype": "text/x-python",
            "codemirror_mode": {
                "name": "ipython",
                "version": 3
            },
            "pygments_lexer": "ipython3",
            "nbconvert_exporter": "python",
            "file_extension": ".py"
        }
    },
    "nbformat": 4,
    "nbformat_minor": 1
}